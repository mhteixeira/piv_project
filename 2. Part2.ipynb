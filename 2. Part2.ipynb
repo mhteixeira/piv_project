{
 "cells": [
  {
   "cell_type": "markdown",
   "metadata": {},
   "source": [
    "### Getting webcam images"
   ]
  },
  {
   "cell_type": "code",
   "execution_count": null,
   "metadata": {},
   "outputs": [],
   "source": [
    "import cv2\n",
    "\n",
    "cap = cv2.VideoCapture(0) # video capture source camera (here webcam of laptop)\n",
    "num = 0\n",
    "\n",
    "while cap.isOpened():\n",
    "\n",
    "    succes, img = cap.read()\n",
    "    k = cv2.waitKey(3)\n",
    "\n",
    "    if k == 30:\n",
    "        break\n",
    "    elif k == ord('s'): # wait for 's' key to save and exit\n",
    "        cv2.imwrite('frames/img' + str(num) + '.png', img)\n",
    "        print(\"image has been saved\")\n",
    "        num += 1\n",
    "    cv2.imshow('webcam', img)\n",
    "\n",
    "cap.release()\n",
    "cv2.destroyAllWindows()"
   ]
  },
  {
   "cell_type": "markdown",
   "metadata": {},
   "source": [
    "### Finding chessboard corners"
   ]
  },
  {
   "cell_type": "code",
   "execution_count": 15,
   "metadata": {},
   "outputs": [],
   "source": [
    "import numpy as np\n",
    "import cv2 as cv\n",
    "import glob\n",
    "\n",
    "chessboardSize = (10, 7) # Number of inner corners per a chessboard width and height\n",
    "frameSize = (640, 480) # Resolution of images\n",
    "\n",
    "# Termination criteria\n",
    "criteria = (cv.TERM_CRITERIA_EPS + cv.TERM_CRITERIA_MAX_ITER, 30, 0.001)\n",
    "\n",
    "\n",
    "# Prepare object points, like (0,0,0), (1,0,0), (2,0,0) ....,(6,5,0)\n",
    "objp = np.zeros((chessboardSize[0] * chessboardSize[1], 3), np.float32)\n",
    "objp[:,:2] = np.mgrid[0:chessboardSize[0], 0:chessboardSize[1]].T.reshape(-1, 2)\n",
    "\n",
    "# Arrays to store object points and image points from all the images.\n",
    "objpoints = [] # 3d point in real world space\n",
    "imgpoints = [] # 2d points in image plane.\n",
    "\n",
    "\n",
    "images = glob.glob('frames/*.png')\n",
    "\n",
    "for image in images:\n",
    "\n",
    "    img = cv.imread(image)\n",
    "    gray = cv.cvtColor(img, cv.COLOR_BGR2GRAY) # Convert to grayscale for findChessboardCorners()\n",
    "\n",
    "    ret, corners = cv.findChessboardCorners(gray, chessboardSize, None) # Find the corners\n",
    "\n",
    "    if ret == True:\n",
    "\n",
    "        objpoints.append(objp)\n",
    "        corners2 = cv.cornerSubPix(gray, corners, (11,11), (-1,-1), criteria) # Refine the corners\n",
    "        imgpoints.append(corners)\n",
    "\n",
    "        cv.drawChessboardCorners(img, chessboardSize, corners2, ret)\n",
    "        cv.imshow('finding corners', img)\n",
    "        cv.waitKey(1000)\n",
    "\n",
    "cv.destroyAllWindows()\n"
   ]
  },
  {
   "cell_type": "markdown",
   "metadata": {},
   "source": [
    "### Calibrate camera"
   ]
  },
  {
   "cell_type": "code",
   "execution_count": 18,
   "metadata": {},
   "outputs": [
    {
     "name": "stdout",
     "output_type": "stream",
     "text": [
      "Camera matrix: \n",
      "\n",
      "[[624.80025092   0.         340.91494291]\n",
      " [  0.         624.00862802 280.26098028]\n",
      " [  0.           0.           1.        ]]\n",
      "Distortion coefficients: \n",
      "\n",
      "[[ 0.03660126 -2.26094412  0.02942902  0.01692354 10.84549437]]\n",
      "Rotation vectors: \n",
      "\n",
      "(array([[ 0.24623066],\n",
      "       [ 0.14468993],\n",
      "       [-3.00279582]]), array([[-0.09368653],\n",
      "       [ 0.0236585 ],\n",
      "       [ 2.55354513]]), array([[-0.03930321],\n",
      "       [-0.09996256],\n",
      "       [ 2.31769303]]), array([[-0.04163459],\n",
      "       [-0.15769417],\n",
      "       [ 2.18661318]]), array([[ 0.47792882],\n",
      "       [-0.42787597],\n",
      "       [-2.75438703]]), array([[ 0.06872082],\n",
      "       [-0.21240927],\n",
      "       [ 1.89748745]]), array([[ 0.03101564],\n",
      "       [-0.06467237],\n",
      "       [ 2.27459391]]), array([[-0.06940139],\n",
      "       [-0.0275615 ],\n",
      "       [ 2.64799623]]), array([[-0.47331147],\n",
      "       [-0.32937628],\n",
      "       [-2.61374298]]), array([[-0.29706216],\n",
      "       [ 0.03507936],\n",
      "       [-2.83469866]]))\n",
      "Translation vectors: \n",
      "\n",
      "(array([[ 7.01383701],\n",
      "       [ 2.74127056],\n",
      "       [20.93566809]]), array([[ 7.40918972],\n",
      "       [ 2.48050677],\n",
      "       [27.3896199 ]]), array([[ 6.90080213],\n",
      "       [-2.08781054],\n",
      "       [27.46813539]]), array([[ 4.11079481],\n",
      "       [-2.56839647],\n",
      "       [26.26369798]]), array([[ 5.4770467 ],\n",
      "       [ 2.3752864 ],\n",
      "       [21.17858426]]), array([[ 3.22044661],\n",
      "       [-2.75044843],\n",
      "       [24.04320625]]), array([[ 5.49667595],\n",
      "       [-1.40056554],\n",
      "       [24.85839252]]), array([[ 6.09027404],\n",
      "       [ 2.08226764],\n",
      "       [25.90462954]]), array([[ 3.08168672],\n",
      "       [ 3.89180889],\n",
      "       [21.30552428]]), array([[ 4.4276744 ],\n",
      "       [ 3.24049558],\n",
      "       [23.18521617]]))\n"
     ]
    }
   ],
   "source": [
    "import pickle\n",
    "\n",
    "ret, cameraMatrix, dist, rvecs, tvecs = cv.calibrateCamera(objpoints, imgpoints, frameSize, None, None)\n",
    "\n",
    "print(\"Camera matrix: \\n\")\n",
    "print(cameraMatrix)\n",
    "print(\"Distortion coefficients: \\n\")\n",
    "print(dist)\n",
    "print(\"Rotation vectors: \\n\")\n",
    "print(rvecs)\n",
    "print(\"Translation vectors: \\n\")\n",
    "print(tvecs)\n",
    "\n",
    "pickle.dump((cameraMatrix, dist), open(\"output\\camera_calibration_1\\calibration_webcam1.pkl\", \"wb\"))\n",
    "pickle.dump(cameraMatrix, open(\"output\\camera_calibration_1\\cameraMatrix_webcam2.pkl\", \"wb\"))\n",
    "pickle.dump(dist, open(\"output\\camera_calibration_1\\dist_webcam1.pkl\", \"wb\"))"
   ]
  }
 ],
 "metadata": {
  "kernelspec": {
   "display_name": "Python 3",
   "language": "python",
   "name": "python3"
  },
  "language_info": {
   "codemirror_mode": {
    "name": "ipython",
    "version": 3
   },
   "file_extension": ".py",
   "mimetype": "text/x-python",
   "name": "python",
   "nbconvert_exporter": "python",
   "pygments_lexer": "ipython3",
   "version": "3.9.18"
  }
 },
 "nbformat": 4,
 "nbformat_minor": 2
}
